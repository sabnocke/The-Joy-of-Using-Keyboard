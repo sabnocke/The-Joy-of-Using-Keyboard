{
 "cells": [
  {
   "cell_type": "code",
   "execution_count": 2,
   "metadata": {
    "collapsed": true
   },
   "outputs": [
    {
     "data": {
      "text/plain": "   boot_size  harness_size     sex  age_years\n0         39            58    male       12.0\n1         38            58    male        9.6\n2         37            52  female        8.6\n3         39            58    male       10.2\n4         38            57    male        7.8",
      "text/html": "<div>\n<style scoped>\n    .dataframe tbody tr th:only-of-type {\n        vertical-align: middle;\n    }\n\n    .dataframe tbody tr th {\n        vertical-align: top;\n    }\n\n    .dataframe thead th {\n        text-align: right;\n    }\n</style>\n<table border=\"1\" class=\"dataframe\">\n  <thead>\n    <tr style=\"text-align: right;\">\n      <th></th>\n      <th>boot_size</th>\n      <th>harness_size</th>\n      <th>sex</th>\n      <th>age_years</th>\n    </tr>\n  </thead>\n  <tbody>\n    <tr>\n      <th>0</th>\n      <td>39</td>\n      <td>58</td>\n      <td>male</td>\n      <td>12.0</td>\n    </tr>\n    <tr>\n      <th>1</th>\n      <td>38</td>\n      <td>58</td>\n      <td>male</td>\n      <td>9.6</td>\n    </tr>\n    <tr>\n      <th>2</th>\n      <td>37</td>\n      <td>52</td>\n      <td>female</td>\n      <td>8.6</td>\n    </tr>\n    <tr>\n      <th>3</th>\n      <td>39</td>\n      <td>58</td>\n      <td>male</td>\n      <td>10.2</td>\n    </tr>\n    <tr>\n      <th>4</th>\n      <td>38</td>\n      <td>57</td>\n      <td>male</td>\n      <td>7.8</td>\n    </tr>\n  </tbody>\n</table>\n</div>"
     },
     "execution_count": 2,
     "metadata": {},
     "output_type": "execute_result"
    }
   ],
   "source": [
    "import pandas as pd\n",
    "\n",
    "dataset = pd.read_csv('data.csv')\n",
    "dataset.head()"
   ]
  },
  {
   "cell_type": "code",
   "execution_count": 3,
   "outputs": [
    {
     "name": "stdout",
     "output_type": "stream",
     "text": [
      "model trained\n"
     ]
    }
   ],
   "source": [
    "import statsmodels.formula.api as smf\n",
    "\n",
    "\"\"\"\n",
    "Fit a simple model that finds linear relationship\n",
    "between boot size and harness size (char ~)\n",
    "\"\"\"\n",
    "model = smf.ols(formula='boot_size ~ harness_size', data=dataset).fit()\n",
    "print('model trained')"
   ],
   "metadata": {
    "collapsed": false
   }
  },
  {
   "cell_type": "code",
   "execution_count": 4,
   "outputs": [
    {
     "name": "stdout",
     "output_type": "stream",
     "text": [
      "model saved\n"
     ]
    }
   ],
   "source": [
    "import joblib\n",
    "\n",
    "model_filename = './avalanche_dog_boot_model.pkl'\n",
    "joblib.dump(model, model_filename)\n",
    "\n",
    "print('model saved')"
   ],
   "metadata": {
    "collapsed": false
   }
  },
  {
   "cell_type": "code",
   "execution_count": 5,
   "outputs": [
    {
     "name": "stdout",
     "output_type": "stream",
     "text": [
      "We have loaded a model with following params: \n",
      "Intercept       5.719110\n",
      "harness_size    0.585925\n",
      "dtype: float64\n"
     ]
    }
   ],
   "source": [],
   "metadata": {
    "collapsed": false
   }
  },
  {
   "cell_type": "code",
   "execution_count": 6,
   "outputs": [
    {
     "name": "stdout",
     "output_type": "stream",
     "text": [
      "We have loaded a model with following params: \n",
      "Intercept       5.719110\n",
      "harness_size    0.585925\n",
      "dtype: float64\n",
      "32.08575356590478\n"
     ]
    }
   ],
   "source": [
    "def load_and_predict_boot_size(harness_size):\n",
    "    \"\"\"\n",
    "    This function loads a pretrained model. It uses the model\n",
    "    with the customer's dog's harness size to predict the size of\n",
    "    boots that will fit that dog.\n",
    "\n",
    "    :param harness_size: The dog harness size, in cm\n",
    "    \"\"\"\n",
    "    loaded_model = joblib.load(model_filename)\n",
    "    print('We have loaded a model with following params: ')\n",
    "    print(loaded_model.params)\n",
    "\n",
    "    inputs = {'harness_size': [harness_size]}\n",
    "\n",
    "    return loaded_model.predict(inputs)[0]\n",
    "\n",
    "predict = load_and_predict_boot_size(45)\n",
    "print(predict)"
   ],
   "metadata": {
    "collapsed": false
   }
  },
  {
   "cell_type": "code",
   "execution_count": 7,
   "outputs": [
    {
     "name": "stdout",
     "output_type": "stream",
     "text": [
      "We have loaded a model with following params: \n",
      "Intercept       5.719110\n",
      "harness_size    0.585925\n",
      "dtype: float64\n"
     ]
    },
    {
     "data": {
      "text/plain": "'The boosts you have chosen may be too small for your dog.I recommend choosing boots of size: 38'"
     },
     "execution_count": 7,
     "metadata": {},
     "output_type": "execute_result"
    }
   ],
   "source": [
    "def check_size_boots(*, selected_harness_size, selected_boot_size):\n",
    "    \"\"\"\n",
    "    Calculates whether the customer has chosen a pair of doggy boots that\n",
    "    are a sensible size. This works by estimating the dog's actual boot\n",
    "    size from their harness size.\n",
    "\n",
    "    This returns a message for the customer that should be shown before\n",
    "    they complete their payment\n",
    "    :rtype: str\n",
    "    :param selected_harness_size: The size of the harness the customer wants to buy\n",
    "    :param selected_boot_size: The size of the doggy boots the customer wants to buy\n",
    "    \"\"\"\n",
    "    estimated_boot_size = load_and_predict_boot_size(selected_harness_size)\n",
    "    estimated_boot_size = int(round(estimated_boot_size))\n",
    "\n",
    "    if estimated_boot_size == selected_boot_size:\n",
    "        return 'You have chosen correctly'\n",
    "    elif estimated_boot_size > selected_boot_size:\n",
    "        return f'The boots you have chosen may be too big for your dog.' \\\n",
    "               f'I recommend choosing boots of size: {estimated_boot_size}'\n",
    "    else:\n",
    "        return f'The boosts you have chosen may be too small for your dog.' \\\n",
    "               f'I recommend choosing boots of size: {estimated_boot_size}'\n",
    "\n",
    "check_size_boots(selected_boot_size=45, selected_harness_size=55)"
   ],
   "metadata": {
    "collapsed": false
   }
  }
 ],
 "metadata": {
  "kernelspec": {
   "display_name": "Python 3",
   "language": "python",
   "name": "python3"
  },
  "language_info": {
   "codemirror_mode": {
    "name": "ipython",
    "version": 2
   },
   "file_extension": ".py",
   "mimetype": "text/x-python",
   "name": "python",
   "nbconvert_exporter": "python",
   "pygments_lexer": "ipython2",
   "version": "2.7.6"
  }
 },
 "nbformat": 4,
 "nbformat_minor": 0
}
