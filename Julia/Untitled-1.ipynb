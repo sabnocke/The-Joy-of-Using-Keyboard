{
 "cells": [
  {
   "cell_type": "code",
   "execution_count": 4,
   "metadata": {},
   "outputs": [
    {
     "ename": "MethodError",
     "evalue": "MethodError: no method matching range(::Int64, ::Int64, ::Int64, ::Int64)\nClosest candidates are:\n  range(::Any, ::Any, ::Integer) at range.jl:141\n  range(::Any, ::Any; length, step) at range.jl:140\n  range(::Any; stop, length, step) at range.jl:138",
     "output_type": "error",
     "traceback": [
      "MethodError: no method matching range(::Int64, ::Int64, ::Int64, ::Int64)\n",
      "Closest candidates are:\n",
      "  range(::Any, ::Any, ::Integer) at range.jl:141\n",
      "  range(::Any, ::Any; length, step) at range.jl:140\n",
      "  range(::Any; stop, length, step) at range.jl:138\n",
      "\n",
      "Stacktrace:\n",
      " [1] bubble_sort(ll::Vector{Int64})\n",
      "   @ Main .\\Untitled-1.ipynb:7\n",
      " [2] top-level scope\n",
      "   @ Untitled-1.ipynb:14"
     ]
    }
   ],
   "source": []
  }
 ],
 "metadata": {
  "kernelspec": {
   "display_name": "Julia 1.8.5",
   "language": "julia",
   "name": "julia-1.8"
  },
  "language_info": {
   "file_extension": ".jl",
   "mimetype": "application/julia",
   "name": "julia",
   "version": "1.8.5"
  },
  "orig_nbformat": 4
 },
 "nbformat": 4,
 "nbformat_minor": 2
}
